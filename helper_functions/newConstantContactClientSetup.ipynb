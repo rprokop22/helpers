{
 "cells": [
  {
   "cell_type": "markdown",
   "id": "13daabfd",
   "metadata": {},
   "source": [
    "Script adapted from - https://github.com/stellaralgo/code-constantcontact/blob/main/docker/src/auth/newClientSetup.py\n",
    "Part A = creates the authorization URL for the client\n",
    "Part B = creates the token for the client. save this token in secrets manager - constant_contact_refresh_tokens_{TEAM_NAME}\n",
    "For Part A, please change\n",
    "  - PROFILE_NAME in line 11 to your AWS profile name\n",
    "  - TEAM_NAME in line 12 to your team name\n",
    "For Part B, please copy the code from the URL that client provides after authorizing the app and paste it in line 96"
   ]
  },
  {
   "cell_type": "code",
   "execution_count": null,
   "id": "c7102f06",
   "metadata": {},
   "outputs": [],
   "source": [
    "import requests \n",
    "import random\n",
    "import string\n",
    "import json\n",
    "import base64\n",
    "\n",
    "PROFILE_NAME = 'default'\n",
    "TEAM_NAME = \"echl_kalamazoowings\"\n",
    "TEAM_NAME_SNAKE = TEAM_NAME.replace('-', '_')\n",
    "stellar_client_id = \"xxx\"\n",
    "stellar_client_secret = \"xxx\"\n",
    "\n",
    "def getStellarCreds():\n",
    "    \"\"\"\n",
    "    :return: the clientId and clientSecret\n",
    "    \"\"\"\n",
    "    try:\n",
    "        stellarclientid = stellar_client_id\n",
    "        stellarclientsecret = stellar_client_secret\n",
    "    except:\n",
    "        raise Exception('Missing secret make sure it has been updated in AWS')\n",
    "    return stellarclientid, stellarclientsecret\n",
    "\n",
    "\n",
    "def getAuthLink(authUrl, scope, redirectUri):\n",
    "    \"\"\"\n",
    "    :param authUrl: authorization URL from endpoints file\n",
    "    :param scope: scope form endpoints file\n",
    "    :param redirectUri: redirect Uri form endpoints file\n",
    "    :return:\n",
    "    \"\"\"\n",
    "    try:\n",
    "        stellarclientid, _ = getStellarCreds()\n",
    "    except:\n",
    "        raise Exception('Missing clientid or secret for client, make sure it has been updated in AWS')\n",
    "    state = ''.join(random.choices(string.ascii_letters + string.digits, k=16))\n",
    "    auth_request_url = f'{authUrl}?client_id={stellarclientid}&scope={scope}' \\\n",
    "                       f'&response_type=code&state={state}&redirect_uri={redirectUri}'\n",
    "    response = requests.get(auth_request_url)\n",
    "    if response.status_code == 200:\n",
    "        return response.url\n",
    "\n",
    "def getToken(code, tokenUrl, redirectUri):\n",
    "    \"\"\"\n",
    "    :param code:\n",
    "    :return:\n",
    "    \"\"\"\n",
    "    stellarclientid, stellarsecret = getStellarCreds()\n",
    "\n",
    "    token_request_url = f'{tokenUrl}?code={code}&redirect_uri={redirectUri}&grant_type=authorization_code'\n",
    "    token_credentials = base64.b64encode(f'{stellarclientid}:{stellarsecret}'.encode('ascii'))\n",
    "    token_authheader = \"Basic \" + token_credentials.decode()\n",
    "    token_headers = {\n",
    "        'Accept': 'application/json',\n",
    "        'Content-Type': 'application/x-www-form-urlencoded',\n",
    "        'Authorization': f'{token_authheader}'\n",
    "    }\n",
    "\n",
    "    response = requests.post(token_request_url, headers=token_headers)\n",
    "    if response.status_code == 200:\n",
    "        access_token = json.loads(response.content.decode('utf-8'))\n",
    "\n",
    "        print(f\"Successfully retrieved token. Please save this token in secrets manager - constant_contact_refresh_tokens_{TEAM_NAME}\")\n",
    "        return access_token\n",
    "\n",
    "    else:\n",
    "        print('Bad Request')\n",
    "        print(response.status_code)\n",
    "        print(response.content)\n",
    "\n",
    "f = open(\"./endpoints.json\")\n",
    "endpoints = json.load(f)\n",
    "f.close()\n",
    "\n",
    "authUrl = endpoints['auth']\n",
    "tokenUrl = endpoints['token']\n",
    "redirectUri = endpoints['redirectUri']\n",
    "scope = endpoints['scope']"
   ]
  },
  {
   "cell_type": "markdown",
   "id": "6421b2bc",
   "metadata": {},
   "source": [
    "1. Run Part A first"
   ]
  },
  {
   "cell_type": "code",
   "execution_count": null,
   "id": "b2152830",
   "metadata": {},
   "outputs": [],
   "source": [
    "def partA():\n",
    "    print(f'Auth URL for {TEAM_NAME}: {getAuthLink(authUrl, scope, redirectUri)}')\n",
    "\n",
    "partA()"
   ]
  },
  {
   "cell_type": "markdown",
   "id": "070b8e80",
   "metadata": {},
   "source": [
    "Click link - they log into Constant Contact with their own credentials - This will redirect them to a blank page which has a URL.\n",
    "Have the client copy this URL and provide StellarAlgo.  This can be pasted directly into the meeting chat (this is not sensitive data)\n",
    "This URL we are interested in the code which is used for 'code_from_client' in Part B below."
   ]
  },
  {
   "cell_type": "code",
   "execution_count": null,
   "id": "2f583a43",
   "metadata": {},
   "outputs": [],
   "source": [
    "code_from_client = \"xxx\"\n",
    "\n",
    "def partB():\n",
    "    test = getToken(code=code_from_client, tokenUrl=tokenUrl, redirectUri=redirectUri)\n",
    "    print(f'Token for {TEAM_NAME}: {test}')\n",
    "\n",
    "partB()"
   ]
  },
  {
   "cell_type": "markdown",
   "id": "03179d10",
   "metadata": {},
   "source": [
    "Use the code and update code_from_client\n",
    "Run Part(B)\n",
    "We are then interested in the REFRESH_TOKEN.\n",
    "Save this token to 1Password and update in Secrets Manager."
   ]
  }
 ],
 "metadata": {
  "kernelspec": {
   "display_name": "general",
   "language": "python",
   "name": "python3"
  },
  "language_info": {
   "name": "python",
   "version": "3.12.9"
  }
 },
 "nbformat": 4,
 "nbformat_minor": 5
}
