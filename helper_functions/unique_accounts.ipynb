{
 "cells": [
  {
   "cell_type": "code",
   "execution_count": 11,
   "metadata": {},
   "outputs": [],
   "source": [
    "import pandas as pd\n",
    "source_file_path = '/Users/robbieprokop/Documents/validation/echl_idahosteelheads/seats_sold.csv'\n",
    "outpath = '/Users/robbieprokop/Documents/validation/echl_idahosteelheads/'\n",
    "df = pd.read_csv(source_file_path)\n",
    "\n",
    "unique_df = pd.DataFrame(df['acct_id'].unique(), columns=['acct_id'])"
   ]
  },
  {
   "cell_type": "markdown",
   "metadata": {},
   "source": [
    "# find number of account ids"
   ]
  },
  {
   "cell_type": "code",
   "execution_count": null,
   "metadata": {},
   "outputs": [
    {
     "name": "stdout",
     "output_type": "stream",
     "text": [
      "['031425IS' 'FS2425IS' '012425IS' '022225IS']\n",
      "Unique accounts for 031425IS 926\n",
      "Unique accounts for FS2425IS 346\n",
      "Unique accounts for 012425IS 900\n",
      "Unique accounts for 022225IS 863\n"
     ]
    }
   ],
   "source": [
    "\n",
    "events = df['event_name'].unique()\n",
    "print(\"unique events:\", events)\n",
    "\n",
    "\n",
    "for event_name in events:\n",
    "    filtered_df = df[df['event_name'] == event_name]\n",
    "    unique_acct_ids = filtered_df['acct_id'].nunique()\n",
    "\n",
    "    print(f'Number of Unique accounts for {event_name}', unique_acct_ids)\n"
   ]
  },
  {
   "cell_type": "markdown",
   "metadata": {},
   "source": [
    "# output distinct account ids"
   ]
  },
  {
   "cell_type": "code",
   "execution_count": 12,
   "metadata": {},
   "outputs": [
    {
     "name": "stdout",
     "output_type": "stream",
     "text": [
      "File created\n"
     ]
    }
   ],
   "source": [
    "\n",
    "with pd.ExcelWriter(f'{outpath}/unique_accounts.xlsx', engine=\"xlsxwriter\") as writer:\n",
    "\n",
    "    unique_df.to_excel(writer, index=True)\n",
    "    print(\"File created\")\n"
   ]
  },
  {
   "cell_type": "markdown",
   "metadata": {},
   "source": [
    "# output missing account ids"
   ]
  },
  {
   "cell_type": "code",
   "execution_count": 17,
   "metadata": {},
   "outputs": [
    {
     "name": "stdout",
     "output_type": "stream",
     "text": [
      "       account_id\n",
      "2267       121595\n",
      "3305      1222911\n",
      "3306      1222911\n",
      "3390      1218350\n",
      "7996       121595\n",
      "8004       121595\n",
      "8735       103553\n",
      "10821     1222911\n",
      "10844     1222911\n",
      "10845     1218684\n",
      "10846     1218684\n",
      "10870     1218350\n",
      "10871     1218350\n",
      "12354      103553\n",
      "12608      103553\n",
      "file created successfully\n"
     ]
    }
   ],
   "source": [
    "\n",
    "athena_file_path = '/Users/robbieprokop/Downloads/steelheads.csv'\n",
    "\n",
    "athena_df = pd.read_csv(athena_file_path)\n",
    "\n",
    "missing_accounts = athena_df[~athena_df['account_id'].isin(unique_df['acct_id'])]\n",
    "\n",
    "print(missing_accounts)\n",
    "with pd.ExcelWriter(f'{outpath}/missing_accounts.xlsx', engine=\"xlsxwriter\") as writer:\n",
    "\n",
    "    missing_accounts.to_excel(writer, index=True)\n",
    "    print('file created successfully')"
   ]
  }
 ],
 "metadata": {
  "kernelspec": {
   "display_name": "cli",
   "language": "python",
   "name": "python3"
  },
  "language_info": {
   "codemirror_mode": {
    "name": "ipython",
    "version": 3
   },
   "file_extension": ".py",
   "mimetype": "text/x-python",
   "name": "python",
   "nbconvert_exporter": "python",
   "pygments_lexer": "ipython3",
   "version": "3.12.9"
  }
 },
 "nbformat": 4,
 "nbformat_minor": 2
}
