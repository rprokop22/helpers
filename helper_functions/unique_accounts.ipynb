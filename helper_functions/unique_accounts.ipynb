{
 "cells": [
  {
   "cell_type": "code",
   "execution_count": 5,
   "metadata": {},
   "outputs": [],
   "source": [
    "import pandas as pd\n",
    "source_file_path = '/Users/robbieprokop/Documents/validation/echl_orlandosolarbears/attendance.xlsx'\n",
    "outpath = '/Users/robbieprokop/Documents/validation/echl_orlandosolarbears'\n",
    "sheet_name = 'Sheet1'\n",
    "df = pd.read_excel(source_file_path, sheet_name=sheet_name)\n",
    "\n",
    "unique_df = pd.DataFrame(df['acct_id'], columns=['acct_id'])"
   ]
  },
  {
   "cell_type": "markdown",
   "metadata": {},
   "source": [
    "# find number of account ids"
   ]
  },
  {
   "cell_type": "code",
   "execution_count": null,
   "metadata": {},
   "outputs": [
    {
     "name": "stdout",
     "output_type": "stream",
     "text": [
      "Unique accounts for DM211203 0\n",
      "Unique accounts for DM211204 0\n",
      "Unique accounts for DM211207 0\n",
      "Unique accounts for DM211213 0\n",
      "Unique accounts for DM211215 0\n"
     ]
    }
   ],
   "source": [
    "\n",
    "\n",
    "\n",
    "events = ['DM211203','DM211204','DM211207','DM211213','DM211215']\n",
    "\n",
    "\n",
    "for event_name in events:\n",
    "    filtered_df = df[df['event_name'] == event_name]\n",
    "    unique_acct_ids = filtered_df['acct_id'].nunique()\n",
    "\n",
    "    print(f'Unique accounts for {event_name}', unique_acct_ids)\n"
   ]
  },
  {
   "cell_type": "markdown",
   "metadata": {},
   "source": [
    "# output distinct account ids"
   ]
  },
  {
   "cell_type": "code",
   "execution_count": null,
   "metadata": {},
   "outputs": [],
   "source": [
    "\n",
    "with pd.ExcelWriter(f'{outpath}/unique_accounts.xlsx', engine=\"xlsxwriter\") as writer:\n",
    "\n",
    "    unique_df.to_excel(writer, index=True)\n",
    "    print(\"File created\")\n"
   ]
  },
  {
   "cell_type": "markdown",
   "metadata": {},
   "source": [
    "# output missing account ids"
   ]
  },
  {
   "cell_type": "code",
   "execution_count": 8,
   "metadata": {},
   "outputs": [
    {
     "name": "stdout",
     "output_type": "stream",
     "text": [
      "      account_id\n",
      "3        1988716\n",
      "18       2909893\n",
      "20        614297\n",
      "31       2878847\n",
      "36       1548616\n",
      "...          ...\n",
      "1897     1767364\n",
      "1898     2908582\n",
      "1899     2794517\n",
      "1901     2906728\n",
      "1902     2908943\n",
      "\n",
      "[273 rows x 1 columns]\n",
      "file created successfully\n"
     ]
    }
   ],
   "source": [
    "\n",
    "athena_file_path = '/Users/robbieprokop/Downloads/04b8beaf-a4bc-453e-80bd-7dcee398f1ba.csv'\n",
    "\n",
    "athena_df = pd.read_csv(athena_file_path)\n",
    "\n",
    "missing_accounts = athena_df[~athena_df['account_id'].isin(unique_df['acct_id'])]\n",
    "\n",
    "print(missing_accounts)\n",
    "with pd.ExcelWriter(f'{outpath}/missing_accounts.xlsx', engine=\"xlsxwriter\") as writer:\n",
    "\n",
    "    missing_accounts.to_excel(writer, index=True)\n",
    "    print('file created successfully')"
   ]
  }
 ],
 "metadata": {
  "kernelspec": {
   "display_name": "general",
   "language": "python",
   "name": "python3"
  },
  "language_info": {
   "codemirror_mode": {
    "name": "ipython",
    "version": 3
   },
   "file_extension": ".py",
   "mimetype": "text/x-python",
   "name": "python",
   "nbconvert_exporter": "python",
   "pygments_lexer": "ipython3",
   "version": "3.12.9"
  }
 },
 "nbformat": 4,
 "nbformat_minor": 2
}
