{
 "cells": [
  {
   "cell_type": "code",
   "execution_count": 7,
   "metadata": {},
   "outputs": [],
   "source": [
    "import pandas as pd\n",
    "import os\n",
    "import glob\n",
    "\n",
    "input_folder = '/Users/robbieprokop/Documents/validation/echl_idahosteelheads/files'\n",
    "output_folder = '/Users/robbieprokop/Documents/validation/echl_idahosteelheads/files'"
   ]
  },
  {
   "cell_type": "markdown",
   "metadata": {},
   "source": [
    "# combine csv\n",
    "\n",
    "\n",
    "Combines multiple CSV files from a folder into a single CSV file,\n",
    "ensuring only one header is retained.\n",
    "\n",
    "Parameters:\n",
    "    input_folder (str): Path to the folder containing CSV files.\n",
    "    output_file (str): Path to save the combined CSV file."
   ]
  },
  {
   "cell_type": "code",
   "execution_count": 8,
   "metadata": {},
   "outputs": [
    {
     "name": "stdout",
     "output_type": "stream",
     "text": [
      "Combined CSV saved as: /Users/robbieprokop/Documents/validation/echl_idahosteelheads/files/combined.csv\n"
     ]
    }
   ],
   "source": [
    "def combine_csv_files(input_folder, output_folder):\n",
    "    csv_files = glob.glob(os.path.join(input_folder, \"*.csv\"))\n",
    "    \n",
    "    if not csv_files:\n",
    "        print(\"No CSV files found in the specified folder.\")\n",
    "        return\n",
    "\n",
    "    combined_df = pd.concat((pd.read_csv(f, encoding='ISO-8859-1') for f in csv_files), ignore_index=True)\n",
    "    outpath = f\"{output_folder}/combined.csv\"\n",
    "    combined_df.to_csv(outpath, index=False, encoding='utf-8')\n",
    "    print(f\"Combined CSV saved as: {outpath}\")\n",
    "\n",
    "combine_csv_files(input_folder, output_folder)"
   ]
  },
  {
   "cell_type": "markdown",
   "metadata": {},
   "source": [
    "# combine Excel"
   ]
  },
  {
   "cell_type": "code",
   "execution_count": null,
   "metadata": {},
   "outputs": [],
   "source": [
    "def combine_excel_files(input_folder, output_folder):\n",
    "\n",
    "    excel_files = glob.glob(os.path.join(input_folder, \"*.xlsx\"))\n",
    "    \n",
    "    if not excel_files:\n",
    "        print(\"No Excel files found in the specified folder.\")\n",
    "        return\n",
    "\n",
    "    combined_df = pd.concat((pd.read_excel(f) for f in excel_files), ignore_index=True)\n",
    "    outpath = f\"{output_folder}/combined.xlsx\"\n",
    "    with pd.ExcelWriter(outpath, engine=\"xlsxwriter\") as writer:\n",
    "\n",
    "        combined_df.to_excel(writer, index=True)\n",
    "    print(f\"Combined Excel saved: {outpath}\")\n",
    "\n",
    "\n",
    "combine_excel_files(input_folder, output_folder)"
   ]
  }
 ],
 "metadata": {
  "kernelspec": {
   "display_name": "cli",
   "language": "python",
   "name": "python3"
  },
  "language_info": {
   "codemirror_mode": {
    "name": "ipython",
    "version": 3
   },
   "file_extension": ".py",
   "mimetype": "text/x-python",
   "name": "python",
   "nbconvert_exporter": "python",
   "pygments_lexer": "ipython3",
   "version": "3.12.9"
  }
 },
 "nbformat": 4,
 "nbformat_minor": 2
}
