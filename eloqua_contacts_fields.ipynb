{
 "cells": [
  {
   "cell_type": "code",
   "execution_count": 47,
   "id": "1d9a2003-dd8a-42ed-b674-abbefddd8dc9",
   "metadata": {},
   "outputs": [],
   "source": [
    "import requests\n",
    "import base64"
   ]
  },
  {
   "cell_type": "code",
   "execution_count": 48,
   "id": "82adfd7e-f98b-403c-b830-c0c0dc569a16",
   "metadata": {},
   "outputs": [],
   "source": [
    "API_TIMEOUT = 90\n",
    "API_VERISON = \"2.0\""
   ]
  },
  {
   "cell_type": "code",
   "execution_count": 49,
   "id": "d1059596-3e27-4c3b-9499-7a3e9a65082c",
   "metadata": {},
   "outputs": [],
   "source": [
    "credentials = {\n",
    "    \"api_username\": \"xxxxxxx\",\n",
    "    \"api_password\": \"xxxxxxx\"\n",
    "}"
   ]
  },
  {
   "cell_type": "code",
   "execution_count": 50,
   "id": "de0c48f5-0bf1-44b9-ae07-60dc2935a7d7",
   "metadata": {},
   "outputs": [],
   "source": [
    "username = credentials['api_username']\n",
    "password = credentials['api_password']"
   ]
  },
  {
   "cell_type": "code",
   "execution_count": 51,
   "id": "10aaeeee-f196-4bc4-88f4-ede7586005eb",
   "metadata": {},
   "outputs": [],
   "source": [
    "auth_str = base64.b64encode(f\"{username}:{password}\".encode()).decode()"
   ]
  },
  {
   "cell_type": "code",
   "execution_count": 54,
   "id": "4f664491-ba50-4171-a939-c49bbb4397eb",
   "metadata": {},
   "outputs": [],
   "source": [
    "client = httpx.Client(\n",
    "            base_url=\"https://login.eloqua.com/id\",\n",
    "            headers={\n",
    "                \"Authorization\": f\"Basic {auth_str}\",\n",
    "                \"Cookie\": \"culture=en-US\",\n",
    "                \"Content-Type\": \"application/json\",\n",
    "            },\n",
    "            timeout=API_TIMEOUT,\n",
    "        )"
   ]
  },
  {
   "cell_type": "code",
   "execution_count": 53,
   "id": "43b65e25-c94e-43f1-bb7d-d3cbab49ffbb",
   "metadata": {},
   "outputs": [],
   "source": [
    "def send_request(url, method=\"get\", params=None, data=None):\n",
    "\n",
    "        match method:\n",
    "            case \"post\":\n",
    "                r = client.post(url, params=params, data=data)\n",
    "            case \"get\":\n",
    "                r = client.get(url, params=params)\n",
    "            case _:\n",
    "                raise Exception(\n",
    "                    f\"Response code 605: HTTP method '{method}' not supported.\"\n",
    "                )\n",
    "\n",
    "        if r.status_code in [200, 201]:\n",
    "            response = r.json()\n",
    "            return response\n",
    "        else:\n",
    "            raise Exception(\n",
    "                f\"Request failed with status_code: {r.status_code} reason: {r.text}.\"\n",
    "            )\n",
    "\n",
    "def get_base_url():\n",
    "\n",
    "    respsone = send_request(url=\"https://login.eloqua.com/id\")\n",
    "\n",
    "    base_url = respsone[\"urls\"][\"base\"]\n",
    "    return base_url"
   ]
  },
  {
   "cell_type": "code",
   "execution_count": 36,
   "id": "bdf13554-c6d7-4b97-86af-6bb28b29bbed",
   "metadata": {},
   "outputs": [],
   "source": [
    "base_url = get_base_url()\n",
    "rest_url = f\"{base_url}/api/rest/{API_VERISON}/\"\n",
    "bulk_url = f\"{base_url}/api/bulk/{API_VERISON}/\""
   ]
  },
  {
   "cell_type": "code",
   "execution_count": 37,
   "id": "8fe0b9bc-0e8e-4391-8c0a-3be5aea35c4d",
   "metadata": {},
   "outputs": [],
   "source": [
    "# contact fields\n",
    "endpoint = \"contacts/fields\""
   ]
  },
  {
   "cell_type": "code",
   "execution_count": 38,
   "id": "fee2a428-50d8-4f86-a345-8e63abe843be",
   "metadata": {},
   "outputs": [],
   "source": [
    "payload = {'limit':1000}\n",
    "response = session.get(\n",
    "            bulk_url + endpoint,\n",
    "            params=payload,\n",
    "        ).json()"
   ]
  },
  {
   "cell_type": "code",
   "execution_count": 46,
   "id": "3f05f1c6-a72b-4527-a4a1-f790908414a1",
   "metadata": {},
   "outputs": [
    {
     "name": "stdout",
     "output_type": "stream",
     "text": [
      "Name:Email Address, Statement:{{Contact.Field(C_EmailAddress)}}\n",
      "Name:First Name, Statement:{{Contact.Field(C_FirstName)}}\n",
      "Name:Last Name, Statement:{{Contact.Field(C_LastName)}}\n",
      "Name:Company, Statement:{{Contact.Field(C_Company)}}\n",
      "Name:Email Display Name, Statement:{{Contact.Field(C_EmailDisplayName)}}\n",
      "Name:Address 1, Statement:{{Contact.Field(C_Address1)}}\n",
      "Name:Address 2, Statement:{{Contact.Field(C_Address2)}}\n",
      "Name:Address 3, Statement:{{Contact.Field(C_Address3)}}\n",
      "Name:City, Statement:{{Contact.Field(C_City)}}\n",
      "Name:State or Province, Statement:{{Contact.Field(C_State_Prov)}}\n"
     ]
    }
   ],
   "source": [
    "# first 10 contact fields\n",
    "for item in response['items'][:10]:\n",
    "    print(f\"Name:{item['name']}, Statement:{item['statement']}\")"
   ]
  },
  {
   "cell_type": "code",
   "execution_count": 44,
   "id": "d6366d47-2aa1-4f47-9961-04aff128e93b",
   "metadata": {},
   "outputs": [
    {
     "name": "stdout",
     "output_type": "stream",
     "text": [
      "Name:Birthdate, Statement:{{Contact.Field(C_Birthdate1)}}\n",
      "Name:Birthdate (text), Statement:{{Contact.Field(C_Birthdate__text_1)}}\n"
     ]
    }
   ],
   "source": [
    "# looking for birthday field\n",
    "for item in response['items']:\n",
    "    if 'birth' in item['name'].lower(): \n",
    "        print(f\"Name:{item['name']}, Statement:{item['statement']}\")"
   ]
  },
  {
   "cell_type": "code",
   "execution_count": null,
   "id": "5f3d0b38-496e-4f0d-a643-a551de3d6910",
   "metadata": {},
   "outputs": [],
   "source": []
  }
 ],
 "metadata": {
  "kernelspec": {
   "display_name": "Python 3 (ipykernel)",
   "language": "python",
   "name": "python3"
  },
  "language_info": {
   "codemirror_mode": {
    "name": "ipython",
    "version": 3
   },
   "file_extension": ".py",
   "mimetype": "text/x-python",
   "name": "python",
   "nbconvert_exporter": "python",
   "pygments_lexer": "ipython3",
   "version": "3.11.7"
  }
 },
 "nbformat": 4,
 "nbformat_minor": 5
}
