{
 "cells": [
  {
   "cell_type": "code",
   "execution_count": null,
   "id": "1d9a2003-dd8a-42ed-b674-abbefddd8dc9",
   "metadata": {},
   "outputs": [],
   "source": [
    "import httpx\n",
    "import base64"
   ]
  },
  {
   "cell_type": "code",
   "execution_count": null,
   "id": "82adfd7e-f98b-403c-b830-c0c0dc569a16",
   "metadata": {},
   "outputs": [],
   "source": [
    "API_TIMEOUT = 90\n",
    "API_VERISON = \"2.0\""
   ]
  },
  {
   "cell_type": "code",
   "execution_count": null,
   "id": "ba8a66e2-893b-45a9-9d92-5896b278d4c1",
   "metadata": {},
   "outputs": [],
   "source": [
    "credentials = {\n",
    "    \"api_username\": \"LasVegasAces2\\stellar.integration\",\n",
    "    \"api_password\": \"AlgoAces2024!\"\n",
    "}"
   ]
  },
  {
   "cell_type": "code",
   "execution_count": null,
   "id": "de0c48f5-0bf1-44b9-ae07-60dc2935a7d7",
   "metadata": {},
   "outputs": [],
   "source": [
    "username = credentials['api_username']\n",
    "password = credentials['api_password']"
   ]
  },
  {
   "cell_type": "code",
   "execution_count": null,
   "id": "10aaeeee-f196-4bc4-88f4-ede7586005eb",
   "metadata": {},
   "outputs": [],
   "source": [
    "auth_str = base64.b64encode(f\"{username}:{password}\".encode()).decode()"
   ]
  },
  {
   "cell_type": "code",
   "execution_count": null,
   "id": "4f664491-ba50-4171-a939-c49bbb4397eb",
   "metadata": {},
   "outputs": [],
   "source": [
    "client = httpx.Client(\n",
    "            base_url=\"https://login.eloqua.com/id\",\n",
    "            headers={\n",
    "                \"Authorization\": f\"Basic {auth_str}\",\n",
    "                \"Cookie\": \"culture=en-US\",\n",
    "                \"Content-Type\": \"application/json\",\n",
    "            },\n",
    "            timeout=API_TIMEOUT,\n",
    "        )"
   ]
  },
  {
   "cell_type": "code",
   "execution_count": null,
   "id": "43b65e25-c94e-43f1-bb7d-d3cbab49ffbb",
   "metadata": {},
   "outputs": [],
   "source": [
    "def send_request(url, method=\"get\", params=None, data=None):\n",
    "\n",
    "        match method:\n",
    "            case \"post\":\n",
    "                r = client.post(url, params=params, data=data)\n",
    "            case \"get\":\n",
    "                r = client.get(url, params=params)\n",
    "            case _:\n",
    "                raise Exception(\n",
    "                    f\"Response code 605: HTTP method '{method}' not supported.\"\n",
    "                )\n",
    "\n",
    "        if r.status_code in [200, 201]:\n",
    "            response = r.json()\n",
    "            return response\n",
    "        else:\n",
    "            raise Exception(\n",
    "                f\"Request failed with status_code: {r.status_code} reason: {r.text}.\"\n",
    "            )\n",
    "\n",
    "def get_base_url():\n",
    "\n",
    "    respsone = send_request(url=\"https://login.eloqua.com/id\")\n",
    "\n",
    "    base_url = respsone[\"urls\"][\"base\"]\n",
    "    return base_url"
   ]
  },
  {
   "cell_type": "code",
   "execution_count": null,
   "id": "bdf13554-c6d7-4b97-86af-6bb28b29bbed",
   "metadata": {},
   "outputs": [],
   "source": [
    "base_url = get_base_url()\n",
    "rest_url = f\"{base_url}/api/rest/{API_VERISON}/\"\n",
    "bulk_url = f\"{base_url}/api/bulk/{API_VERISON}/\"\n",
    "print(base_url,rest_url,bulk_url)"
   ]
  },
  {
   "cell_type": "code",
   "execution_count": null,
   "id": "8fe0b9bc-0e8e-4391-8c0a-3be5aea35c4d",
   "metadata": {},
   "outputs": [],
   "source": [
    "# contact fields\n",
    "endpoint = \"contacts/fields\""
   ]
  },
  {
   "cell_type": "code",
   "execution_count": null,
   "id": "daa01f17-87f8-444f-bbd8-1367fa27c94e",
   "metadata": {},
   "outputs": [],
   "source": [
    "payload = {'limit':1000}\n",
    "response = client.get(\n",
    "            bulk_url + endpoint,\n",
    "            params=payload,\n",
    "        ).json()"
   ]
  },
  {
   "cell_type": "code",
   "execution_count": null,
   "id": "3f05f1c6-a72b-4527-a4a1-f790908414a1",
   "metadata": {},
   "outputs": [],
   "source": [
    "# first 10 contact fields\n",
    "for item in response['items'][:10]:\n",
    "    print(f\"Name:{item['name']}, Statement:{item['statement']}\")"
   ]
  },
  {
   "cell_type": "code",
   "execution_count": null,
   "id": "d6366d47-2aa1-4f47-9961-04aff128e93b",
   "metadata": {},
   "outputs": [],
   "source": [
    "# looking for birthday field\n",
    "for item in response['items']:\n",
    "    if 'birth' in item['name'].lower(): \n",
    "        print(f\"Name:{item['name']}, Statement:{item['statement']}\")"
   ]
  },
  {
   "cell_type": "code",
   "execution_count": null,
   "id": "5f3d0b38-496e-4f0d-a643-a551de3d6910",
   "metadata": {},
   "outputs": [],
   "source": []
  }
 ],
 "metadata": {
  "kernelspec": {
   "display_name": "Python 3 (ipykernel)",
   "language": "python",
   "name": "python3"
  },
  "language_info": {
   "codemirror_mode": {
    "name": "ipython",
    "version": 3
   },
   "file_extension": ".py",
   "mimetype": "text/x-python",
   "name": "python",
   "nbconvert_exporter": "python",
   "pygments_lexer": "ipython3",
   "version": "3.12.2"
  }
 },
 "nbformat": 4,
 "nbformat_minor": 5
}
